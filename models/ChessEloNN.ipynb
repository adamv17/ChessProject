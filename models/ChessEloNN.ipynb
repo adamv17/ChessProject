{
 "cells": [
  {
   "cell_type": "code",
   "execution_count": 1,
   "id": "2007fc0a-d430-4027-a418-841b33c6ade1",
   "metadata": {
    "tags": []
   },
   "outputs": [
    {
     "name": "stderr",
     "output_type": "stream",
     "text": [
      "C:\\Users\\USER\\anaconda3\\envs\\chesnn\\lib\\site-packages\\torchvision\\io\\image.py:11: UserWarning: Failed to load image Python extension: Could not find module 'C:\\Users\\USER\\anaconda3\\envs\\chesnn\\Lib\\site-packages\\torchvision\\image.pyd' (or one of its dependencies). Try using the full path with constructor syntax.\n",
      "  warn(f\"Failed to load image Python extension: {e}\")\n"
     ]
    }
   ],
   "source": [
    "import torch\n",
    "import torchvision\n",
    "from torch.utils.tensorboard import SummaryWriter\n",
    "from torchvision import datasets, transforms\n",
    "%load_ext tensorboard "
   ]
  },
  {
   "cell_type": "code",
   "execution_count": 2,
   "id": "aba8aa5d-30bc-4f64-8eaa-cfd45c4f7a2e",
   "metadata": {},
   "outputs": [
    {
     "data": {
      "text/html": [
       "\n",
       "      <iframe id=\"tensorboard-frame-cc3a55b8c2d91eb2\" width=\"100%\" height=\"800\" frameborder=\"0\">\n",
       "      </iframe>\n",
       "      <script>\n",
       "        (function() {\n",
       "          const frame = document.getElementById(\"tensorboard-frame-cc3a55b8c2d91eb2\");\n",
       "          const url = new URL(\"/\", window.location);\n",
       "          const port = 6006;\n",
       "          if (port) {\n",
       "            url.port = port;\n",
       "          }\n",
       "          frame.src = url;\n",
       "        })();\n",
       "      </script>\n",
       "    "
      ],
      "text/plain": [
       "<IPython.core.display.HTML object>"
      ]
     },
     "metadata": {},
     "output_type": "display_data"
    }
   ],
   "source": [
    "#taskkill /IM \"tensorboard.exe\" /F\n",
    "!rmdir /S /Q %temp%\\.tensorboard-info\n",
    "%tensorboard --logdir=runs --host localhost"
   ]
  },
  {
   "cell_type": "code",
   "execution_count": 3,
   "id": "d6daf1b5-3041-4312-9860-4521a347ea38",
   "metadata": {},
   "outputs": [],
   "source": [
    "# data params\n",
    "data_params = {'batch_size':128, \n",
    "               'shuffle':True}\n",
    "\n",
    "# validation params\n",
    "val_params = {'batch_size': 1, 'shuffle': False}"
   ]
  },
  {
   "cell_type": "code",
   "execution_count": 4,
   "id": "08478b4e-3565-4977-ae10-8e5d833a09dc",
   "metadata": {
    "tags": []
   },
   "outputs": [],
   "source": [
    "import os \n",
    "\n",
    "# dataset \n",
    "class Dataset(torch.utils.data.Dataset):\n",
    "  def __init__(self, evals, games, list_IDs, labels):\n",
    "        'Initialization'\n",
    "        self.evals = evals\n",
    "        self.games = games\n",
    "        self.labels = labels\n",
    "        self.list_IDs = list_IDs\n",
    "\n",
    "  def __len__(self):\n",
    "        'Denotes the total number of samples'\n",
    "        return len(self.list_IDs)\n",
    "\n",
    "  def __getitem__(self, index):\n",
    "        'Generates one sample of data'\n",
    "        # Select sample\n",
    "        ID = self.list_IDs[index]\n",
    "\n",
    "         # Load data and get label\n",
    "        X = self.evals[ID]\n",
    "        X2 = self.games[ID]\n",
    "        y = self.labels[ID]\n",
    "        in_data = torch.empty((X.size()[0], 65))\n",
    "        in_data[:, 0:64] = X2\n",
    "        in_data[:, 64] = X\n",
    "        return torch.flatten(in_data), y\n",
    "    \n",
    "samples = torch.load('../data/X.pt')\n",
    "partition = {'train': list(range(17000)), 'dev': list(range(17000, 18000)), 'test': []}\n",
    "games = torch.load('../data/X2.pt')\n",
    "labels = torch.load('../data/Y.pt')\n",
    "# data loader\n",
    "training_set = Dataset(samples, games, partition['train'], labels)\n",
    "training_generator = torch.utils.data.DataLoader(training_set, **data_params)\n",
    "\n",
    "validation_set = Dataset(samples, games, partition['dev'], labels)\n",
    "validation_generator = torch.utils.data.DataLoader(validation_set, **val_params)"
   ]
  },
  {
   "cell_type": "code",
   "execution_count": 5,
   "id": "fb28f5d2-22c4-4b4e-b988-0adf02bb80cb",
   "metadata": {},
   "outputs": [],
   "source": [
    "# set device\n",
    "device = torch.device('cuda' if torch.cuda.is_available() else 'cpu')"
   ]
  },
  {
   "cell_type": "code",
   "execution_count": 21,
   "id": "7ef566ac-64eb-4936-94f3-87c7a80c058b",
   "metadata": {},
   "outputs": [],
   "source": [
    "# nn model\n",
    "# class EloNN(torch.nn.Module):\n",
    "#     def __init__(self):\n",
    "#         super().__init__()\n",
    "#         self.evl = torch.nn.Sequential(\n",
    "#             torch.nn.Conv1d(in_channels=1, out_channels=200, kernel_size=20),\n",
    "#             torch.nn.ReLU(inplace=True),\n",
    "#             torch.nn.Flatten(),\n",
    "#             torch.nn.Linear(in_features=16200, out_features=50),\n",
    "#             torch.nn.ReLU(inplace=True),\n",
    "#             torch.nn.Linear(in_features=50, out_features=50),\n",
    "#             torch.nn.ReLU(inplace=True),\n",
    "#         )\n",
    "#         self.game = torch.nn.Sequential(\n",
    "#             torch.nn.Linear(in_features=64, out_features=512),\n",
    "#             torch.nn.ReLU(inplace=True),\n",
    "#             torch.nn.Linear(in_features=512, out_features=128),\n",
    "#             torch.nn.ReLU(inplace=True),\n",
    "#             torch.nn.Linear(in_features=128, out_features=64),\n",
    "#             torch.nn.ReLU(inplace=True)\n",
    "#         )\n",
    "#         self.fc_combine = torch.nn.Sequential(\n",
    "#             torch.nn.Linear(in_features=6450, out_features=100),\n",
    "#             torch.nn.ReLU(inplace=True),\n",
    "#             torch.nn.Linear(in_features=100, out_features=2),\n",
    "#         )\n",
    "\n",
    "#     def forward(self, input1, input2):\n",
    "#         e = self.evl(input1)\n",
    "#         g = self.game(input2)\n",
    "#         combined = torch.cat((g.view(g.size(0), -1),\n",
    "#                               e.view(e.size(0), -1)), dim=1)\n",
    "#         out = self.fc_combine(combined)\n",
    "#         return out\n",
    "\n",
    "class EloNN(torch.nn.Module):\n",
    "    def __init__(self):\n",
    "        super().__init__()\n",
    "        self.layers = torch.nn.Sequential(\n",
    "            torch.nn.Linear(in_features=6500, out_features=200),\n",
    "            torch.nn.ReLU(),\n",
    "            torch.nn.Linear(in_features=200, out_features=150),\n",
    "            torch.nn.ReLU(),\n",
    "            torch.nn.Linear(in_features=150, out_features=40),\n",
    "            torch.nn.ReLU(),\n",
    "            torch.nn.Dropout(0.1),\n",
    "            torch.nn.Linear(in_features=40, out_features=2)\n",
    "        )\n",
    "    \n",
    "    def forward(self, inp):\n",
    "        return self.layers(inp)\n",
    "    \n",
    "model = EloNN()"
   ]
  },
  {
   "cell_type": "code",
   "execution_count": 7,
   "id": "94e8de34-74bb-46b1-90a7-52367300d921",
   "metadata": {},
   "outputs": [
    {
     "ename": "TypeError",
     "evalue": "forward() takes 2 positional arguments but 3 were given",
     "output_type": "error",
     "traceback": [
      "\u001b[1;31m---------------------------------------------------------------------------\u001b[0m",
      "\u001b[1;31mTypeError\u001b[0m                                 Traceback (most recent call last)",
      "\u001b[1;32m<ipython-input-7-dcfdc47b04b7>\u001b[0m in \u001b[0;36m<module>\u001b[1;34m\u001b[0m\n\u001b[0;32m      8\u001b[0m ]\n\u001b[0;32m      9\u001b[0m \u001b[1;33m\u001b[0m\u001b[0m\n\u001b[1;32m---> 10\u001b[1;33m \u001b[0mgraph\u001b[0m \u001b[1;33m=\u001b[0m \u001b[0mhl\u001b[0m\u001b[1;33m.\u001b[0m\u001b[0mbuild_graph\u001b[0m\u001b[1;33m(\u001b[0m\u001b[0mmodel\u001b[0m\u001b[1;33m,\u001b[0m \u001b[1;33m(\u001b[0m\u001b[0mtorch\u001b[0m\u001b[1;33m.\u001b[0m\u001b[0mzeros\u001b[0m\u001b[1;33m(\u001b[0m\u001b[1;36m128\u001b[0m\u001b[1;33m,\u001b[0m \u001b[1;36m1\u001b[0m\u001b[1;33m,\u001b[0m \u001b[1;36m100\u001b[0m\u001b[1;33m)\u001b[0m\u001b[1;33m,\u001b[0m \u001b[0mtorch\u001b[0m\u001b[1;33m.\u001b[0m\u001b[0mzeros\u001b[0m\u001b[1;33m(\u001b[0m\u001b[1;36m128\u001b[0m\u001b[1;33m,\u001b[0m \u001b[1;36m100\u001b[0m\u001b[1;33m,\u001b[0m \u001b[1;36m64\u001b[0m\u001b[1;33m)\u001b[0m\u001b[1;33m)\u001b[0m\u001b[1;33m,\u001b[0m \u001b[0mtransforms\u001b[0m\u001b[1;33m=\u001b[0m\u001b[0mtransforms\u001b[0m\u001b[1;33m)\u001b[0m\u001b[1;33m\u001b[0m\u001b[1;33m\u001b[0m\u001b[0m\n\u001b[0m\u001b[0;32m     11\u001b[0m \u001b[0mgraph\u001b[0m\u001b[1;33m.\u001b[0m\u001b[0mtheme\u001b[0m \u001b[1;33m=\u001b[0m \u001b[0mhl\u001b[0m\u001b[1;33m.\u001b[0m\u001b[0mgraph\u001b[0m\u001b[1;33m.\u001b[0m\u001b[0mTHEMES\u001b[0m\u001b[1;33m[\u001b[0m\u001b[1;34m'blue'\u001b[0m\u001b[1;33m]\u001b[0m\u001b[1;33m.\u001b[0m\u001b[0mcopy\u001b[0m\u001b[1;33m(\u001b[0m\u001b[1;33m)\u001b[0m\u001b[1;33m\u001b[0m\u001b[1;33m\u001b[0m\u001b[0m\n\u001b[0;32m     12\u001b[0m \u001b[0mgraph\u001b[0m\u001b[1;33m.\u001b[0m\u001b[0msave\u001b[0m\u001b[1;33m(\u001b[0m\u001b[1;34m'elonn_hiddenlayer'\u001b[0m\u001b[1;33m,\u001b[0m \u001b[0mformat\u001b[0m\u001b[1;33m=\u001b[0m\u001b[1;34m'png'\u001b[0m\u001b[1;33m)\u001b[0m\u001b[1;33m\u001b[0m\u001b[1;33m\u001b[0m\u001b[0m\n",
      "\u001b[1;32m~\\anaconda3\\envs\\chesnn\\lib\\site-packages\\hiddenlayer\\graph.py\u001b[0m in \u001b[0;36mbuild_graph\u001b[1;34m(model, args, input_names, transforms, framework_transforms)\u001b[0m\n\u001b[0;32m    141\u001b[0m         \u001b[1;32mfrom\u001b[0m \u001b[1;33m.\u001b[0m\u001b[0mpytorch_builder\u001b[0m \u001b[1;32mimport\u001b[0m \u001b[0mimport_graph\u001b[0m\u001b[1;33m,\u001b[0m \u001b[0mFRAMEWORK_TRANSFORMS\u001b[0m\u001b[1;33m\u001b[0m\u001b[1;33m\u001b[0m\u001b[0m\n\u001b[0;32m    142\u001b[0m         \u001b[1;32massert\u001b[0m \u001b[0margs\u001b[0m \u001b[1;32mis\u001b[0m \u001b[1;32mnot\u001b[0m \u001b[1;32mNone\u001b[0m\u001b[1;33m,\u001b[0m \u001b[1;34m\"Argument args must be provided for Pytorch models.\"\u001b[0m\u001b[1;33m\u001b[0m\u001b[1;33m\u001b[0m\u001b[0m\n\u001b[1;32m--> 143\u001b[1;33m         \u001b[0mimport_graph\u001b[0m\u001b[1;33m(\u001b[0m\u001b[0mg\u001b[0m\u001b[1;33m,\u001b[0m \u001b[0mmodel\u001b[0m\u001b[1;33m,\u001b[0m \u001b[0margs\u001b[0m\u001b[1;33m)\u001b[0m\u001b[1;33m\u001b[0m\u001b[1;33m\u001b[0m\u001b[0m\n\u001b[0m\u001b[0;32m    144\u001b[0m     \u001b[1;32melif\u001b[0m \u001b[0mframework\u001b[0m \u001b[1;33m==\u001b[0m \u001b[1;34m\"tensorflow\"\u001b[0m\u001b[1;33m:\u001b[0m\u001b[1;33m\u001b[0m\u001b[1;33m\u001b[0m\u001b[0m\n\u001b[0;32m    145\u001b[0m         \u001b[1;32mfrom\u001b[0m \u001b[1;33m.\u001b[0m\u001b[0mtf_builder\u001b[0m \u001b[1;32mimport\u001b[0m \u001b[0mimport_graph\u001b[0m\u001b[1;33m,\u001b[0m \u001b[0mFRAMEWORK_TRANSFORMS\u001b[0m\u001b[1;33m\u001b[0m\u001b[1;33m\u001b[0m\u001b[0m\n",
      "\u001b[1;32m~\\anaconda3\\envs\\chesnn\\lib\\site-packages\\hiddenlayer\\pytorch_builder.py\u001b[0m in \u001b[0;36mimport_graph\u001b[1;34m(hl_graph, model, args, input_names, verbose)\u001b[0m\n\u001b[0;32m     68\u001b[0m \u001b[1;33m\u001b[0m\u001b[0m\n\u001b[0;32m     69\u001b[0m     \u001b[1;31m# Run the Pytorch graph to get a trace and generate a graph from it\u001b[0m\u001b[1;33m\u001b[0m\u001b[1;33m\u001b[0m\u001b[1;33m\u001b[0m\u001b[0m\n\u001b[1;32m---> 70\u001b[1;33m     \u001b[0mtrace\u001b[0m\u001b[1;33m,\u001b[0m \u001b[0mout\u001b[0m \u001b[1;33m=\u001b[0m \u001b[0mtorch\u001b[0m\u001b[1;33m.\u001b[0m\u001b[0mjit\u001b[0m\u001b[1;33m.\u001b[0m\u001b[0m_get_trace_graph\u001b[0m\u001b[1;33m(\u001b[0m\u001b[0mmodel\u001b[0m\u001b[1;33m,\u001b[0m \u001b[0margs\u001b[0m\u001b[1;33m)\u001b[0m\u001b[1;33m\u001b[0m\u001b[1;33m\u001b[0m\u001b[0m\n\u001b[0m\u001b[0;32m     71\u001b[0m     \u001b[0mtorch_graph\u001b[0m \u001b[1;33m=\u001b[0m \u001b[0mtorch\u001b[0m\u001b[1;33m.\u001b[0m\u001b[0monnx\u001b[0m\u001b[1;33m.\u001b[0m\u001b[0m_optimize_trace\u001b[0m\u001b[1;33m(\u001b[0m\u001b[0mtrace\u001b[0m\u001b[1;33m,\u001b[0m \u001b[0mtorch\u001b[0m\u001b[1;33m.\u001b[0m\u001b[0monnx\u001b[0m\u001b[1;33m.\u001b[0m\u001b[0mOperatorExportTypes\u001b[0m\u001b[1;33m.\u001b[0m\u001b[0mONNX\u001b[0m\u001b[1;33m)\u001b[0m\u001b[1;33m\u001b[0m\u001b[1;33m\u001b[0m\u001b[0m\n\u001b[0;32m     72\u001b[0m \u001b[1;33m\u001b[0m\u001b[0m\n",
      "\u001b[1;32m~\\anaconda3\\envs\\chesnn\\lib\\site-packages\\torch\\jit\\_trace.py\u001b[0m in \u001b[0;36m_get_trace_graph\u001b[1;34m(f, args, kwargs, strict, _force_outplace, return_inputs, _return_inputs_states)\u001b[0m\n\u001b[0;32m   1164\u001b[0m     \u001b[1;32mif\u001b[0m \u001b[1;32mnot\u001b[0m \u001b[0misinstance\u001b[0m\u001b[1;33m(\u001b[0m\u001b[0margs\u001b[0m\u001b[1;33m,\u001b[0m \u001b[0mtuple\u001b[0m\u001b[1;33m)\u001b[0m\u001b[1;33m:\u001b[0m\u001b[1;33m\u001b[0m\u001b[1;33m\u001b[0m\u001b[0m\n\u001b[0;32m   1165\u001b[0m         \u001b[0margs\u001b[0m \u001b[1;33m=\u001b[0m \u001b[1;33m(\u001b[0m\u001b[0margs\u001b[0m\u001b[1;33m,\u001b[0m\u001b[1;33m)\u001b[0m\u001b[1;33m\u001b[0m\u001b[1;33m\u001b[0m\u001b[0m\n\u001b[1;32m-> 1166\u001b[1;33m     \u001b[0mouts\u001b[0m \u001b[1;33m=\u001b[0m \u001b[0mONNXTracedModule\u001b[0m\u001b[1;33m(\u001b[0m\u001b[0mf\u001b[0m\u001b[1;33m,\u001b[0m \u001b[0mstrict\u001b[0m\u001b[1;33m,\u001b[0m \u001b[0m_force_outplace\u001b[0m\u001b[1;33m,\u001b[0m \u001b[0mreturn_inputs\u001b[0m\u001b[1;33m,\u001b[0m \u001b[0m_return_inputs_states\u001b[0m\u001b[1;33m)\u001b[0m\u001b[1;33m(\u001b[0m\u001b[1;33m*\u001b[0m\u001b[0margs\u001b[0m\u001b[1;33m,\u001b[0m \u001b[1;33m**\u001b[0m\u001b[0mkwargs\u001b[0m\u001b[1;33m)\u001b[0m\u001b[1;33m\u001b[0m\u001b[1;33m\u001b[0m\u001b[0m\n\u001b[0m\u001b[0;32m   1167\u001b[0m     \u001b[1;32mreturn\u001b[0m \u001b[0mouts\u001b[0m\u001b[1;33m\u001b[0m\u001b[1;33m\u001b[0m\u001b[0m\n",
      "\u001b[1;32m~\\anaconda3\\envs\\chesnn\\lib\\site-packages\\torch\\nn\\modules\\module.py\u001b[0m in \u001b[0;36m_call_impl\u001b[1;34m(self, *input, **kwargs)\u001b[0m\n\u001b[0;32m   1100\u001b[0m         if not (self._backward_hooks or self._forward_hooks or self._forward_pre_hooks or _global_backward_hooks\n\u001b[0;32m   1101\u001b[0m                 or _global_forward_hooks or _global_forward_pre_hooks):\n\u001b[1;32m-> 1102\u001b[1;33m             \u001b[1;32mreturn\u001b[0m \u001b[0mforward_call\u001b[0m\u001b[1;33m(\u001b[0m\u001b[1;33m*\u001b[0m\u001b[0minput\u001b[0m\u001b[1;33m,\u001b[0m \u001b[1;33m**\u001b[0m\u001b[0mkwargs\u001b[0m\u001b[1;33m)\u001b[0m\u001b[1;33m\u001b[0m\u001b[1;33m\u001b[0m\u001b[0m\n\u001b[0m\u001b[0;32m   1103\u001b[0m         \u001b[1;31m# Do not call functions when jit is used\u001b[0m\u001b[1;33m\u001b[0m\u001b[1;33m\u001b[0m\u001b[1;33m\u001b[0m\u001b[0m\n\u001b[0;32m   1104\u001b[0m         \u001b[0mfull_backward_hooks\u001b[0m\u001b[1;33m,\u001b[0m \u001b[0mnon_full_backward_hooks\u001b[0m \u001b[1;33m=\u001b[0m \u001b[1;33m[\u001b[0m\u001b[1;33m]\u001b[0m\u001b[1;33m,\u001b[0m \u001b[1;33m[\u001b[0m\u001b[1;33m]\u001b[0m\u001b[1;33m\u001b[0m\u001b[1;33m\u001b[0m\u001b[0m\n",
      "\u001b[1;32m~\\anaconda3\\envs\\chesnn\\lib\\site-packages\\torch\\jit\\_trace.py\u001b[0m in \u001b[0;36mforward\u001b[1;34m(self, *args)\u001b[0m\n\u001b[0;32m    125\u001b[0m                 \u001b[1;32mreturn\u001b[0m \u001b[0mtuple\u001b[0m\u001b[1;33m(\u001b[0m\u001b[0mout_vars\u001b[0m\u001b[1;33m)\u001b[0m\u001b[1;33m\u001b[0m\u001b[1;33m\u001b[0m\u001b[0m\n\u001b[0;32m    126\u001b[0m \u001b[1;33m\u001b[0m\u001b[0m\n\u001b[1;32m--> 127\u001b[1;33m         graph, out = torch._C._create_graph_by_tracing(\n\u001b[0m\u001b[0;32m    128\u001b[0m             \u001b[0mwrapper\u001b[0m\u001b[1;33m,\u001b[0m\u001b[1;33m\u001b[0m\u001b[1;33m\u001b[0m\u001b[0m\n\u001b[0;32m    129\u001b[0m             \u001b[0min_vars\u001b[0m \u001b[1;33m+\u001b[0m \u001b[0mmodule_state\u001b[0m\u001b[1;33m,\u001b[0m\u001b[1;33m\u001b[0m\u001b[1;33m\u001b[0m\u001b[0m\n",
      "\u001b[1;32m~\\anaconda3\\envs\\chesnn\\lib\\site-packages\\torch\\jit\\_trace.py\u001b[0m in \u001b[0;36mwrapper\u001b[1;34m(*args)\u001b[0m\n\u001b[0;32m    116\u001b[0m             \u001b[1;32mif\u001b[0m \u001b[0mself\u001b[0m\u001b[1;33m.\u001b[0m\u001b[0m_return_inputs_states\u001b[0m\u001b[1;33m:\u001b[0m\u001b[1;33m\u001b[0m\u001b[1;33m\u001b[0m\u001b[0m\n\u001b[0;32m    117\u001b[0m                 \u001b[0minputs_states\u001b[0m\u001b[1;33m.\u001b[0m\u001b[0mappend\u001b[0m\u001b[1;33m(\u001b[0m\u001b[0m_unflatten\u001b[0m\u001b[1;33m(\u001b[0m\u001b[0min_args\u001b[0m\u001b[1;33m,\u001b[0m \u001b[0min_desc\u001b[0m\u001b[1;33m)\u001b[0m\u001b[1;33m)\u001b[0m\u001b[1;33m\u001b[0m\u001b[1;33m\u001b[0m\u001b[0m\n\u001b[1;32m--> 118\u001b[1;33m             \u001b[0mouts\u001b[0m\u001b[1;33m.\u001b[0m\u001b[0mappend\u001b[0m\u001b[1;33m(\u001b[0m\u001b[0mself\u001b[0m\u001b[1;33m.\u001b[0m\u001b[0minner\u001b[0m\u001b[1;33m(\u001b[0m\u001b[1;33m*\u001b[0m\u001b[0mtrace_inputs\u001b[0m\u001b[1;33m)\u001b[0m\u001b[1;33m)\u001b[0m\u001b[1;33m\u001b[0m\u001b[1;33m\u001b[0m\u001b[0m\n\u001b[0m\u001b[0;32m    119\u001b[0m             \u001b[1;32mif\u001b[0m \u001b[0mself\u001b[0m\u001b[1;33m.\u001b[0m\u001b[0m_return_inputs_states\u001b[0m\u001b[1;33m:\u001b[0m\u001b[1;33m\u001b[0m\u001b[1;33m\u001b[0m\u001b[0m\n\u001b[0;32m    120\u001b[0m                 \u001b[0minputs_states\u001b[0m\u001b[1;33m[\u001b[0m\u001b[1;36m0\u001b[0m\u001b[1;33m]\u001b[0m \u001b[1;33m=\u001b[0m \u001b[1;33m(\u001b[0m\u001b[0minputs_states\u001b[0m\u001b[1;33m[\u001b[0m\u001b[1;36m0\u001b[0m\u001b[1;33m]\u001b[0m\u001b[1;33m,\u001b[0m \u001b[0mtrace_inputs\u001b[0m\u001b[1;33m)\u001b[0m\u001b[1;33m\u001b[0m\u001b[1;33m\u001b[0m\u001b[0m\n",
      "\u001b[1;32m~\\anaconda3\\envs\\chesnn\\lib\\site-packages\\torch\\nn\\modules\\module.py\u001b[0m in \u001b[0;36m_call_impl\u001b[1;34m(self, *input, **kwargs)\u001b[0m\n\u001b[0;32m   1100\u001b[0m         if not (self._backward_hooks or self._forward_hooks or self._forward_pre_hooks or _global_backward_hooks\n\u001b[0;32m   1101\u001b[0m                 or _global_forward_hooks or _global_forward_pre_hooks):\n\u001b[1;32m-> 1102\u001b[1;33m             \u001b[1;32mreturn\u001b[0m \u001b[0mforward_call\u001b[0m\u001b[1;33m(\u001b[0m\u001b[1;33m*\u001b[0m\u001b[0minput\u001b[0m\u001b[1;33m,\u001b[0m \u001b[1;33m**\u001b[0m\u001b[0mkwargs\u001b[0m\u001b[1;33m)\u001b[0m\u001b[1;33m\u001b[0m\u001b[1;33m\u001b[0m\u001b[0m\n\u001b[0m\u001b[0;32m   1103\u001b[0m         \u001b[1;31m# Do not call functions when jit is used\u001b[0m\u001b[1;33m\u001b[0m\u001b[1;33m\u001b[0m\u001b[1;33m\u001b[0m\u001b[0m\n\u001b[0;32m   1104\u001b[0m         \u001b[0mfull_backward_hooks\u001b[0m\u001b[1;33m,\u001b[0m \u001b[0mnon_full_backward_hooks\u001b[0m \u001b[1;33m=\u001b[0m \u001b[1;33m[\u001b[0m\u001b[1;33m]\u001b[0m\u001b[1;33m,\u001b[0m \u001b[1;33m[\u001b[0m\u001b[1;33m]\u001b[0m\u001b[1;33m\u001b[0m\u001b[1;33m\u001b[0m\u001b[0m\n",
      "\u001b[1;32m~\\anaconda3\\envs\\chesnn\\lib\\site-packages\\torch\\nn\\modules\\module.py\u001b[0m in \u001b[0;36m_slow_forward\u001b[1;34m(self, *input, **kwargs)\u001b[0m\n\u001b[0;32m   1088\u001b[0m                 \u001b[0mrecording_scopes\u001b[0m \u001b[1;33m=\u001b[0m \u001b[1;32mFalse\u001b[0m\u001b[1;33m\u001b[0m\u001b[1;33m\u001b[0m\u001b[0m\n\u001b[0;32m   1089\u001b[0m         \u001b[1;32mtry\u001b[0m\u001b[1;33m:\u001b[0m\u001b[1;33m\u001b[0m\u001b[1;33m\u001b[0m\u001b[0m\n\u001b[1;32m-> 1090\u001b[1;33m             \u001b[0mresult\u001b[0m \u001b[1;33m=\u001b[0m \u001b[0mself\u001b[0m\u001b[1;33m.\u001b[0m\u001b[0mforward\u001b[0m\u001b[1;33m(\u001b[0m\u001b[1;33m*\u001b[0m\u001b[0minput\u001b[0m\u001b[1;33m,\u001b[0m \u001b[1;33m**\u001b[0m\u001b[0mkwargs\u001b[0m\u001b[1;33m)\u001b[0m\u001b[1;33m\u001b[0m\u001b[1;33m\u001b[0m\u001b[0m\n\u001b[0m\u001b[0;32m   1091\u001b[0m         \u001b[1;32mfinally\u001b[0m\u001b[1;33m:\u001b[0m\u001b[1;33m\u001b[0m\u001b[1;33m\u001b[0m\u001b[0m\n\u001b[0;32m   1092\u001b[0m             \u001b[1;32mif\u001b[0m \u001b[0mrecording_scopes\u001b[0m\u001b[1;33m:\u001b[0m\u001b[1;33m\u001b[0m\u001b[1;33m\u001b[0m\u001b[0m\n",
      "\u001b[1;31mTypeError\u001b[0m: forward() takes 2 positional arguments but 3 were given"
     ]
    }
   ],
   "source": [
    "import hiddenlayer as hl\n",
    "\n",
    "transforms = [\n",
    "    hl.transforms.Fold(\"\"\"(Transpose > MatMul > Add)\"\"\", \"Linear\", \"Linear\"),\n",
    "    hl.transforms.Fold(\"\"\"Linear > Relu\"\"\", \"LinRe\"),\n",
    "    # hl.transforms.Fold(\"Shape >  Gather > Unsqueeze > Concat > Reshape > Concat\", \"Con\", \"Concat\"),\n",
    "    hl.transforms.FoldDuplicates()\n",
    "]\n",
    "\n",
    "graph = hl.build_graph(model, (torch.zeros(128, 1, 100), torch.zeros(128, 100, 64)), transforms=transforms)\n",
    "graph.theme = hl.graph.THEMES['blue'].copy()\n",
    "graph.save('elonn_hiddenlayer', format='png')"
   ]
  },
  {
   "cell_type": "code",
   "execution_count": 7,
   "id": "3b5a7958-f66a-4420-ab64-e4f5593a7240",
   "metadata": {},
   "outputs": [],
   "source": [
    "# hyper params\n",
    "learning_rate=1e-3\n",
    "epochs=50 # 2000\n",
    "l2=1e-5"
   ]
  },
  {
   "cell_type": "code",
   "execution_count": 8,
   "id": "7dad611c-f7de-46c7-b178-e3ad371da2df",
   "metadata": {},
   "outputs": [],
   "source": [
    "# helper function\n",
    "def get_num_correct(predicted, actual):\n",
    "    count = 0\n",
    "    for i, p in enumerate(predicted):\n",
    "        if abs(p[0] - actual[i][0]) < 100 and abs(p[1] - actual[i][1]) < 100:\n",
    "            count += 1\n",
    "    return count"
   ]
  },
  {
   "cell_type": "code",
   "execution_count": 31,
   "id": "a0890508-58f8-44a0-be72-80dbfc60431a",
   "metadata": {},
   "outputs": [
    {
     "name": "stdout",
     "output_type": "stream",
     "text": [
      "epoch: 0 total_correct: 4433 loss: 4422991.84375\n",
      "epoch: 1 total_correct: 4579 loss: 4262112.6953125\n",
      "epoch: 2 total_correct: 4552 loss: 4255628.771484375\n",
      "epoch: 3 total_correct: 4491 loss: 4148098.681640625\n",
      "epoch: 4 total_correct: 4555 loss: 4219461.203125\n",
      "epoch: 5 total_correct: 4603 loss: 4167385.9609375\n",
      "epoch: 6 total_correct: 4626 loss: 4106616.41796875\n",
      "epoch: 7 total_correct: 4540 loss: 4245719.0859375\n",
      "epoch: 8 total_correct: 4651 loss: 4198470.66015625\n",
      "epoch: 9 total_correct: 4702 loss: 4101882.03125\n",
      "epoch: 10 total_correct: 4541 loss: 4239570.9140625\n",
      "epoch: 11 total_correct: 4624 loss: 4243491.68359375\n",
      "epoch: 12 total_correct: 4711 loss: 4183851.125\n",
      "epoch: 13 total_correct: 4603 loss: 4228442.744140625\n",
      "epoch: 14 total_correct: 4617 loss: 4201568.78125\n",
      "epoch: 15 total_correct: 4646 loss: 4254846.990234375\n",
      "epoch: 16 total_correct: 4665 loss: 4165412.24609375\n",
      "epoch: 17 total_correct: 4780 loss: 4033583.462890625\n",
      "epoch: 18 total_correct: 4614 loss: 4161195.71875\n",
      "epoch: 19 total_correct: 4762 loss: 4139978.5234375\n",
      "epoch: 20 total_correct: 4749 loss: 4061734.822265625\n",
      "epoch: 21 total_correct: 4713 loss: 4082431.181640625\n",
      "epoch: 22 total_correct: 4738 loss: 4048428.951171875\n",
      "epoch: 23 total_correct: 4816 loss: 4085660.03515625\n",
      "epoch: 24 total_correct: 4777 loss: 4158925.84375\n",
      "epoch: 25 total_correct: 4642 loss: 4245363.76171875\n",
      "epoch: 26 total_correct: 4753 loss: 4198003.94140625\n",
      "epoch: 27 total_correct: 4698 loss: 4146117.6328125\n",
      "epoch: 28 total_correct: 4835 loss: 4112637.08984375\n",
      "epoch: 29 total_correct: 4744 loss: 4219265.537109375\n",
      "epoch: 30 total_correct: 4804 loss: 4152657.037109375\n",
      "epoch: 31 total_correct: 4923 loss: 4002672.255859375\n",
      "epoch: 32 total_correct: 4870 loss: 4068881.205078125\n",
      "epoch: 33 total_correct: 4781 loss: 4056281.791015625\n",
      "epoch: 34 total_correct: 4767 loss: 4073159.220703125\n",
      "epoch: 35 total_correct: 4767 loss: 4066238.759765625\n",
      "epoch: 36 total_correct: 4962 loss: 4007419.037109375\n",
      "epoch: 37 total_correct: 4703 loss: 4172916.578125\n",
      "epoch: 38 total_correct: 4782 loss: 4091283.990234375\n",
      "epoch: 39 total_correct: 4882 loss: 4059670.888671875\n",
      "epoch: 40 total_correct: 4973 loss: 3980599.482421875\n",
      "epoch: 41 total_correct: 4681 loss: 4107444.939453125\n",
      "epoch: 42 total_correct: 4870 loss: 4049368.8203125\n",
      "epoch: 43 total_correct: 4739 loss: 4081993.42578125\n",
      "epoch: 44 total_correct: 4907 loss: 4003665.8046875\n",
      "epoch: 45 total_correct: 4857 loss: 3993484.201171875\n",
      "epoch: 46 total_correct: 5022 loss: 4017318.75390625\n",
      "epoch: 47 total_correct: 4893 loss: 3998771.6484375\n",
      "epoch: 48 total_correct: 4799 loss: 4173764.20703125\n",
      "epoch: 49 total_correct: 4871 loss: 4013911.408203125\n"
     ]
    }
   ],
   "source": [
    "model.load_state_dict(torch.load('eval_game_model_simple_better.pt'))\n",
    "model.train()\n",
    "model.to(device)\n",
    "\n",
    "tb = SummaryWriter()\n",
    "\n",
    "optimizer = torch.optim.Adam(model.parameters(), lr=learning_rate, weight_decay=l2)\n",
    "criterion = torch.nn.MSELoss(reduction='mean')\n",
    "\n",
    "tb = SummaryWriter()\n",
    "has_graphed = False\n",
    "\n",
    "for epoch in range(epochs):\n",
    "\n",
    "    total_loss = 0\n",
    "    total_correct = 0\n",
    "\n",
    "    for inputs, labels in training_generator:\n",
    "        # evals, games, labels = evals.float(), games.float(), labels.float()\n",
    "        # evals = evals[:, None, :]\n",
    "        # evals, games, labels = evals.to(device), games.to(device), labels.to(device)\n",
    "        inputs, labels = inputs.float().to(device), labels.float().to(device)\n",
    "        preds = model(inputs)\n",
    "        if epoch == 0 and not has_graphed:\n",
    "            tb.add_graph(model, inputs)\n",
    "            has_graphed = True\n",
    "            \n",
    "        loss = criterion(preds, labels)\n",
    "        total_loss += loss.item()\n",
    "        total_correct += get_num_correct(preds, labels)\n",
    "\n",
    "        optimizer.zero_grad()\n",
    "        loss.backward()\n",
    "        optimizer.step()\n",
    "\n",
    "    tb.add_scalar(\"Loss\", total_loss, epoch)\n",
    "    tb.add_scalar(\"Correct\", total_correct, epoch)\n",
    "    tb.add_scalar(\"Accuracy\", total_correct / len(training_generator), epoch)\n",
    "\n",
    "    tb.add_hparams(\n",
    "        {\"lr\": learning_rate, \"bsize\": data_params['batch_size'], \"shuffle\": data_params['shuffle']},\n",
    "        {\n",
    "            \"accuracy\": total_correct / len(training_generator),\n",
    "            \"loss\": total_loss,\n",
    "        },\n",
    "    )\n",
    "\n",
    "    print(\"epoch:\", epoch, \"total_correct:\", total_correct, \"loss:\", total_loss)\n",
    "    \n",
    "tb.close()\n",
    "torch.save(model.state_dict(), 'eval_game_model_simple_better_cont.pt')"
   ]
  },
  {
   "cell_type": "code",
   "execution_count": 32,
   "id": "1ebdc9ea-fb07-4fea-b6d5-2b9a448ce4ef",
   "metadata": {},
   "outputs": [
    {
     "name": "stdout",
     "output_type": "stream",
     "text": [
      "\n",
      "statistics: \n",
      "std white = 189.7956224474684, std black = 190.445010797224 \n",
      "mean white = 235.45838525390624, mean black = 239.34673498535156 \n",
      "max white = 992.733154296875, max black = 1094.608642578125 \n",
      "min white = 0.1810302734375, min black = 0.103515625\n",
      "total correct 93\n"
     ]
    }
   ],
   "source": [
    "import numpy as np\n",
    "\n",
    "# validate model\n",
    "model.load_state_dict(torch.load('eval_game_model_simple_better_cont.pt'))\n",
    "device = 'cpu'\n",
    "model.to(device)\n",
    "model.eval()\n",
    "dev_num = len(validation_generator)\n",
    "predictions = np.empty((dev_num, 2))\n",
    "divs_white = np.empty(dev_num)\n",
    "divs_black = np.empty(dev_num)\n",
    "i = 0\n",
    "total_correct = 0\n",
    "for val_inputs, val_label in validation_generator:\n",
    "    # val_input, val_games = val_input.float(), val_games.float()\n",
    "    # val_input = val_input[:, None, :]\n",
    "    # val_input, val_games = val_input.to(device), val_games.to(device)\n",
    "    val_inputs = val_inputs.float().to(device)\n",
    "    y_hat = model(val_inputs)\n",
    "    y_hat = y_hat.detach().numpy()[0]\n",
    "    val_label = val_label.float().detach().numpy()[0]\n",
    "    div_white = abs(y_hat[0] - val_label[0])\n",
    "    div_black = abs(y_hat[1] - val_label[1])\n",
    "    if div_white < 100 and div_black < 100:\n",
    "        total_correct = total_correct + 1\n",
    "    predictions[i] = y_hat\n",
    "    divs_white[i] = div_white\n",
    "    divs_black[i] = div_black\n",
    "    i = i + 1\n",
    "str_res = f'\\nstatistics: \\nstd white = {np.std(divs_white)}, std black = {np.std(divs_black)} \\n' \\\n",
    "      f'mean white = {np.mean(divs_white)}, mean black = {np.mean(divs_black)} \\n' \\\n",
    "      f'max white = {np.max(divs_white)}, max black = {np.max(divs_black)} \\n' \\\n",
    "      f'min white = {np.min(divs_white)}, min black = {np.min(divs_black)}'\n",
    "print(str_res)\n",
    "print(f'total correct {total_correct}')"
   ]
  },
  {
   "cell_type": "code",
   "execution_count": null,
   "id": "a91a2e3c-18c1-42b1-bd6a-64981e87d87d",
   "metadata": {},
   "outputs": [],
   "source": []
  }
 ],
 "metadata": {
  "kernelspec": {
   "display_name": "ChessEloNN",
   "language": "python",
   "name": "chesselonn"
  },
  "language_info": {
   "codemirror_mode": {
    "name": "ipython",
    "version": 3
   },
   "file_extension": ".py",
   "mimetype": "text/x-python",
   "name": "python",
   "nbconvert_exporter": "python",
   "pygments_lexer": "ipython3",
   "version": "3.8.12"
  }
 },
 "nbformat": 4,
 "nbformat_minor": 5
}
